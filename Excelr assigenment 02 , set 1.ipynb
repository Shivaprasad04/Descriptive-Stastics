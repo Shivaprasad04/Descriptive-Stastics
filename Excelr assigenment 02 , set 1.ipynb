{
 "cells": [
  {
   "cell_type": "code",
   "execution_count": 1,
   "id": "705bce1b",
   "metadata": {},
   "outputs": [],
   "source": [
    "import pandas as pd\n",
    "import numpy as np\n",
    "import matplotlib.pyplot as plt\n",
    "import seaborn as sns"
   ]
  },
  {
   "cell_type": "markdown",
   "id": "b0bdbfce",
   "metadata": {},
   "source": [
    "# Q1"
   ]
  },
  {
   "cell_type": "code",
   "execution_count": 6,
   "id": "7480230c",
   "metadata": {},
   "outputs": [
    {
     "name": "stdout",
     "output_type": "stream",
     "text": [
      "Mean : 33.27133333333333\n",
      "Standard Deviation : 16.370812590976932\n",
      "Variance : 268.00350488888887\n",
      "Outliers:            Company  Measure_X\n",
      "10  Morgan Stanley      91.36\n"
     ]
    },
    {
     "data": {
      "image/png": "[encoded data removed]",
      "text/plain": [
       "<Figure size 1000x600 with 1 Axes>"
      ]
     },
     "metadata": {},
     "output_type": "display_data"
    }
   ],
   "source": [
    "data = {\n",
    "    'Company': ['Allied Signal', 'Bankers Trust', 'General Mills', 'ITT Industries', 'J.P.Morgan & Co.',\n",
    "                'Lehman Brothers', 'Marriott', 'MCI', 'Merrill Lynch', 'Microsoft', 'Morgan Stanley',\n",
    "                'Sun Microsystems', 'Travelers', 'US Airways', 'Warner-Lambert'],\n",
    "    'Measure_X': [24.23, 25.53, 25.41, 24.14, 29.62, 28.25, 25.81, 24.39, 40.26, 32.95, 91.36, 25.99, 39.42, 26.71, 35.00]\n",
    "}\n",
    "\n",
    "df = pd.DataFrame(data)\n",
    "\n",
    "# Plot the data using a box plot\n",
    "plt.figure(figsize=(10, 6))\n",
    "sns.boxplot(x='Measure_X', data=df)\n",
    "plt.title('Box Plot of Measure_X')\n",
    "\n",
    "# Calculation of  mean, standard deviation, and variance\n",
    "mean = np.mean(df['Measure_X'])\n",
    "std_deviation = np.std(df['Measure_X'])\n",
    "variance = np.var(df['Measure_X'])\n",
    "\n",
    "# IQR method\n",
    "Q1 = df['Measure_X'].quantile(0.25)\n",
    "Q3 = df['Measure_X'].quantile(0.75)\n",
    "IQR = Q3 - Q1\n",
    "outliers = df[(df['Measure_X'] < Q1 - 1.5 * IQR)]\n",
    "outliers = df[(df['Measure_X'] > Q3 + 1.5 * IQR)]\n",
    "\n",
    "print(\"Mean :\", mean)\n",
    "print(\"Standard Deviation :\", std_deviation)\n",
    "print(\"Variance :\", variance)\n",
    "print(\"Outliers:\",outliers)"
   ]
  },
  {
   "cell_type": "markdown",
   "id": "ce7e2573",
   "metadata": {},
   "source": [
    "# Q5,5"
   ]
  },
  {
   "cell_type": "code",
   "execution_count": 9,
   "id": "639d2de9",
   "metadata": {},
   "outputs": [
    {
     "name": "stdout",
     "output_type": "stream",
     "text": [
      "Standard Deviation (σ): 1469.6938456699068\n"
     ]
    }
   ],
   "source": [
    "outcomes = [-2000, -1000, 0, 1000, 2000, 3000]\n",
    "probabilities = [0.1, 0.1, 0.2, 0.2, 0.3, 0.1]\n",
    "\n",
    "# Calculation of  the standard deviation\n",
    "std_deviation = np.sqrt(np.sum((np.array(outcomes) - mean_value)**2 * np.array(probabilities)))\n",
    "print(\"Standard Deviation (σ):\", std_deviation)"
   ]
  },
  {
   "cell_type": "markdown",
   "id": "e8d7b7e0",
   "metadata": {},
   "source": [
    "# Q4"
   ]
  },
  {
   "cell_type": "code",
   "execution_count": 12,
   "id": "215b97e9",
   "metadata": {},
   "outputs": [
    {
     "name": "stdout",
     "output_type": "stream",
     "text": [
      "Probability of atleast onesuccess in five attempts: 0.02475124687812502\n"
     ]
    }
   ],
   "source": [
    "p = 1 / 200\n",
    "n = 5\n",
    "\n",
    "probability_atleast_onesuccess = 1 - (1 - p)**n\n",
    "print(\"Probability of atleast onesuccess in five attempts:\", probability_atleast_onesuccess)"
   ]
  },
  {
   "cell_type": "markdown",
   "id": "c26a973b",
   "metadata": {},
   "source": [
    "# Set 02"
   ]
  },
  {
   "cell_type": "markdown",
   "id": "700db5b9",
   "metadata": {},
   "source": [
    "# Q1"
   ]
  },
  {
   "cell_type": "code",
   "execution_count": 8,
   "id": "2c99c089",
   "metadata": {},
   "outputs": [
    {
     "name": "stdout",
     "output_type": "stream",
     "text": [
      "Probability of not meeting the commitment: 0.375\n"
     ]
    }
   ],
   "source": [
    "import scipy.stats as stats\n",
    "mean_service_time = 45 \n",
    "std_dev_service_time = 8  \n",
    "time_available = 50\n",
    "\n",
    "# Calculate the z-score\n",
    "z_score = (time_available - mean_service_time) / std_dev_service_time\n",
    "\n",
    "# Calculate the probability using the cumulative distribution function (1 - CDF)\n",
    "probability_not_meeting_commitment = 1 - z_score\n",
    "\n",
    "print(\"Probability of not meeting the commitment:\", probability_not_meeting_commitment)"
   ]
  },
  {
   "cell_type": "markdown",
   "id": "7ae9151c",
   "metadata": {},
   "source": [
    "# Q2.01"
   ]
  },
  {
   "cell_type": "code",
   "execution_count": 10,
   "id": "775d4c2d",
   "metadata": {},
   "outputs": [
    {
     "name": "stdout",
     "output_type": "stream",
     "text": [
      "Cumulative Probability for Z=44: 0.8413447460685429\n",
      "Cumulative Probability for Z=38: 0.5\n",
      "More employees are older than 44 than between 38 and 44: True\n"
     ]
    }
   ],
   "source": [
    "mean_age = 38\n",
    "std_dev_age = 6\n",
    "\n",
    "z_score_44 = (44 - mean_age) / std_dev_age\n",
    "z_score_38 = (38 - mean_age) / std_dev_age\n",
    "# cumulative probabilities\n",
    "cum_prob_44 = stats.norm.cdf(z_score_44)\n",
    "cum_prob_38 = stats.norm.cdf(z_score_38)\n",
    "\n",
    "# Compare probabilities\n",
    "more_older_than_44 = cum_prob_44 > cum_prob_38\n",
    "\n",
    "print(\"Cumulative Probability for Z=44:\", cum_prob_44)\n",
    "print(\"Cumulative Probability for Z=38:\", cum_prob_38)\n",
    "print(\"More employees are older than 44 than between 38 and 44:\", more_older_than_44)"
   ]
  },
  {
   "cell_type": "markdown",
   "id": "116ac8b4",
   "metadata": {},
   "source": [
    "# Q2.02"
   ]
  },
  {
   "cell_type": "code",
   "execution_count": 11,
   "id": "fe45bbad",
   "metadata": {},
   "outputs": [
    {
     "name": "stdout",
     "output_type": "stream",
     "text": [
      "Z-score: -1.3333333333333333\n"
     ]
    }
   ],
   "source": [
    "mean_age = 38\n",
    "std_dev_age = 6\n",
    "target_age = 30\n",
    "\n",
    "# Z-score\n",
    "z_score = (target_age - mean_age) / std_dev_age\n",
    "\n",
    "print(\"Z-score:\", z_score)"
   ]
  },
  {
   "cell_type": "markdown",
   "id": "da3d6d06",
   "metadata": {},
   "source": [
    "# Q2.04"
   ]
  },
  {
   "cell_type": "code",
   "execution_count": 9,
   "id": "1c4578ec",
   "metadata": {},
   "outputs": [
    {
     "name": "stdout",
     "output_type": "stream",
     "text": [
      "a: 48.48, b: 151.52\n"
     ]
    }
   ],
   "source": [
    "mean = 100\n",
    "std_dev = 20\n",
    "z_value = 2.576\n",
    "\n",
    "a = mean - z_value * std_dev\n",
    "b = mean + z_value * std_dev\n",
    "\n",
    "print(f\"a: {a}, b: {b}\")"
   ]
  },
  {
   "cell_type": "markdown",
   "id": "51930dae",
   "metadata": {},
   "source": [
    "# q5.a"
   ]
  },
  {
   "cell_type": "code",
   "execution_count": 12,
   "id": "d6fcc286",
   "metadata": {},
   "outputs": [
    {
     "name": "stdout",
     "output_type": "stream",
     "text": [
      "Confidence Interval: (99.00, 981.00)\n"
     ]
    }
   ],
   "source": [
    "mean = 540\n",
    "std_deviation = 225\n",
    "confidence_level = 0.95\n",
    "z_score = 1.96\n",
    "margin_of_error = z_score * std_deviation\n",
    "lower_bound = mean - margin_of_error\n",
    "upper_bound = mean + margin_of_error\n",
    "print(f'Confidence Interval: ({lower_bound:.2f}, {upper_bound:.2f})')"
   ]
  },
  {
   "cell_type": "markdown",
   "id": "c7509b9b",
   "metadata": {},
   "source": [
    "#    q5.b"
   ]
  },
  {
   "cell_type": "code",
   "execution_count": 14,
   "id": "d545cb67",
   "metadata": {},
   "outputs": [
    {
     "name": "stdout",
     "output_type": "stream",
     "text": [
      "The 5th percentile of profit is: 169.9079339359186\n"
     ]
    }
   ],
   "source": [
    "from scipy.stats import norm\n",
    "mean = 540\n",
    "std = 225\n",
    "percentile = 5\n",
    "percentile_value = norm.ppf(percentile / 100, loc=mean, scale=std)\n",
    "print(f'The 5th percentile of profit is: {percentile_value}')"
   ]
  },
  {
   "cell_type": "markdown",
   "id": "ef9bb82a",
   "metadata": {},
   "source": [
    "# q5.c"
   ]
  },
  {
   "cell_type": "code",
   "execution_count": 15,
   "id": "8b6d0d72",
   "metadata": {},
   "outputs": [
    {
     "name": "stdout",
     "output_type": "stream",
     "text": [
      "The probability of 1st division making a loss in a given year is: 0.2893\n"
     ]
    }
   ],
   "source": [
    "from scipy.stats import norm\n",
    "mean1 = 5\n",
    "std1 = 9\n",
    "loss_probability = norm.cdf(0, loc=mean1, scale=std1)\n",
    "print(f'The probability of 1st division making a loss in a given year is: {loss_probability:.4f}')"
   ]
  },
  {
   "cell_type": "code",
   "execution_count": 17,
   "id": "27a07554",
   "metadata": {},
   "outputs": [
    {
     "name": "stdout",
     "output_type": "stream",
     "text": [
      "The probability of 2nd division making a loss in a given year is: 0.3773\n"
     ]
    }
   ],
   "source": [
    "mean2 = 7\n",
    "std2 = 16\n",
    "loss_probability = norm.cdf(0, loc=mean1, scale=std2)\n",
    "print(f'The probability of 2nd division making a loss in a given year is: {loss_probability:.4f}')"
   ]
  },
  {
   "cell_type": "markdown",
   "id": "2d64ed03",
   "metadata": {},
   "source": [
    "# set 03,q8"
   ]
  },
  {
   "cell_type": "code",
   "execution_count": 19,
   "id": "240b7f49",
   "metadata": {},
   "outputs": [
    {
     "name": "stdout",
     "output_type": "stream",
     "text": [
      "Minimum sample size: 601\n"
     ]
    }
   ],
   "source": [
    "import math\n",
    "Z = 1.96  # Z-score for a 95% confidence level\n",
    "p = 0.5   # Assumed proportion for maximum required sample size\n",
    "E = 0.04  # Margin of error\n",
    "\n",
    "required_sample_size = math.ceil((Z**2 * p * (1 - p)) / E**2)\n",
    "print(f\"Minimum sample size: {required_sample_size}\")"
   ]
  },
  {
   "cell_type": "markdown",
   "id": "85bce6fa",
   "metadata": {},
   "source": [
    "# Q9"
   ]
  },
  {
   "cell_type": "code",
   "execution_count": 21,
   "id": "178da923",
   "metadata": {},
   "outputs": [
    {
     "name": "stdout",
     "output_type": "stream",
     "text": [
      "Minimum sample size: 849\n"
     ]
    }
   ],
   "source": [
    "Z = 2.33  # Z-score for a 95% confidence level\n",
    "p = 0.5  # Assumed proportion for maximum required sample size\n",
    "E = 0.04  # Margin of error\n",
    "\n",
    "required_sample_size = math.ceil((Z**2 * p * (1 - p)) / E**2)\n",
    "print(f\"Minimum sample size: {required_sample_size}\")"
   ]
  },
  {
   "cell_type": "code",
   "execution_count": null,
   "id": "2adaf45a",
   "metadata": {},
   "outputs": [],
   "source": []
  },
  {
   "cell_type": "code",
   "execution_count": null,
   "id": "a988ede1",
   "metadata": {},
   "outputs": [],
   "source": []
  }
 ],
 "metadata": {
  "kernelspec": {
   "display_name": "Python 3 (ipykernel)",
   "language": "python",
   "name": "python3"
  },
  "language_info": {
   "codemirror_mode": {
    "name": "ipython",
    "version": 3
   },
   "file_extension": ".py",
   "mimetype": "text/x-python",
   "name": "python",
   "nbconvert_exporter": "python",
   "pygments_lexer": "ipython3",
   "version": "3.11.5"
  }
 },
 "nbformat": 4,
 "nbformat_minor": 5
}
